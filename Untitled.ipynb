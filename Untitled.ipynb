{
 "cells": [
  {
   "cell_type": "code",
   "execution_count": null,
   "metadata": {
    "scrolled": true
   },
   "outputs": [
    {
     "name": "stdout",
     "output_type": "stream",
     "text": [
      "Start\n",
      "Listening\n",
      "Error!\n",
      "Listening\n",
      "Error!\n",
      "Listening\n",
      "You said : Hello world\n",
      "Listening\n"
     ]
    }
   ],
   "source": [
    "\n",
    "import speech_recognition as sr\n",
    "r = sr.Recognizer()\n",
    "print('Start')\n",
    "with sr.Microphone() as source:\n",
    "    while True:\n",
    "        print('Listening')\n",
    "        audio = r.listen(source)\n",
    "        try:\n",
    "            print('You said : '+r.recognize_google(audio, None,'th'))\n",
    "        except:\n",
    "            print('Error!')"
   ]
  }
 ],
 "metadata": {
  "kernelspec": {
   "display_name": "Python 3",
   "language": "python",
   "name": "python3"
  },
  "language_info": {
   "codemirror_mode": {
    "name": "ipython",
    "version": 3
   },
   "file_extension": ".py",
   "mimetype": "text/x-python",
   "name": "python",
   "nbconvert_exporter": "python",
   "pygments_lexer": "ipython3",
   "version": "3.7.3"
  }
 },
 "nbformat": 4,
 "nbformat_minor": 2
}
