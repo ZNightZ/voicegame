{
 "cells": [
  {
   "cell_type": "code",
   "execution_count": 68,
   "metadata": {},
   "outputs": [
    {
     "name": "stdout",
     "output_type": "stream",
     "text": [
      "[('1. มันหิวและกำลังล่าอาหาร\\r\\n',), ('2. มันกำลังตามหาความรักที่หายไป',), ('3. มันดุร้ายเพราะมันน่าเกลียดน่ากลัว',), ('4. มันโกรธทุกอย่างในโลกนี้',)]\n"
     ]
    }
   ],
   "source": [
    "import speech_recognition as sr\n",
    "import time\n",
    "import pyttsx3\n",
    "import mysql.connector\n",
    "from gtts import gTTS\n",
    "from playsound import playsound\n",
    "import os as os\n",
    "r = sr.Recognizer()\n",
    "tts = pyttsx3.init()\n",
    "\n",
    "mydb = mysql.connector.connect(\n",
    "  host=\"localhost\",\n",
    "  user=\"root\",\n",
    "  passwd=\"\",\n",
    "  database=\"voice_human\"\n",
    ")\n",
    "mycursor = mydb.cursor()\n",
    "# recognize user voice\n",
    "def recog():\n",
    "    with sr.Microphone() as mic:        \n",
    "        # listen to microphone\n",
    "        audio = r.listen(mic)\n",
    "        text = \"\"\n",
    "        try:\n",
    "            # convert audio to text\n",
    "            text = r.recognize_google(audio,None,'th')\n",
    "            # print(text)\n",
    "        except sr.UnknownValueError:\n",
    "            print(\"Cannot understand your messsage\")\n",
    "        except sr.RequestError:\n",
    "            print(\"Service is not ready\")\n",
    "        return text\n",
    "\n",
    "\n",
    "def speak(text):\n",
    "    tts.say(text)\n",
    "    tts.runAndWait()\n",
    "\n",
    "# while True:\n",
    "#     speak(\"สวัสดีครับ\")\n",
    "#     print(\"say\")\n",
    "#     text = recog()\n",
    "#     if \"สวัสดีครับ\" in text:\n",
    "# select question\n",
    "sql = \"SELECT answer.answer FROM question INNER JOIN answer ON question.question_id=answer.question_id WHERE answer.question_id = 1\"\n",
    "mycursor.execute(sql)\n",
    "myresult = mycursor.fetchall()\n",
    "print(myresult)\n",
    "# x = str(myresult)\n",
    "# tts = gTTS(text=x, lang='th')\n",
    "# tts.save('sound.mp3')\n",
    "# playsound('sound.mp3', True)\n",
    "# os.system('rm sound.mp3')\n",
    "# sql1 = \"SELECT answer.answer FROM question INNER JOIN answer ON question.question_id=answer.question_id WHERE answer.question_id = 1\"\n",
    "# mycursor.execute(sql1)\n",
    "# result = mycursor.fetchall()\n",
    "# for x in result:\n",
    "#   print(x)\n",
    "    "
   ]
  },
  {
   "cell_type": "code",
   "execution_count": null,
   "metadata": {},
   "outputs": [],
   "source": []
  }
 ],
 "metadata": {
  "kernelspec": {
   "display_name": "Python 3",
   "language": "python",
   "name": "python3"
  },
  "language_info": {
   "codemirror_mode": {
    "name": "ipython",
    "version": 3
   },
   "file_extension": ".py",
   "mimetype": "text/x-python",
   "name": "python",
   "nbconvert_exporter": "python",
   "pygments_lexer": "ipython3",
   "version": "3.7.3"
  }
 },
 "nbformat": 4,
 "nbformat_minor": 2
}
