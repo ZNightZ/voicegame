{
 "cells": [
  {
   "cell_type": "code",
   "execution_count": 66,
   "metadata": {},
   "outputs": [
    {
     "ename": "RuntimeError",
     "evalue": "run loop already started",
     "output_type": "error",
     "traceback": [
      "\u001b[0;31m---------------------------------------------------------------------------\u001b[0m",
      "\u001b[0;31mRuntimeError\u001b[0m                              Traceback (most recent call last)",
      "\u001b[0;32m<ipython-input-66-6e23b6bff546>\u001b[0m in \u001b[0;36m<module>\u001b[0;34m\u001b[0m\n\u001b[1;32m     56\u001b[0m \u001b[0;31m# main part\u001b[0m\u001b[0;34m\u001b[0m\u001b[0;34m\u001b[0m\u001b[0;34m\u001b[0m\u001b[0m\n\u001b[1;32m     57\u001b[0m \u001b[0;32mwhile\u001b[0m \u001b[0;32mTrue\u001b[0m\u001b[0;34m:\u001b[0m\u001b[0;34m\u001b[0m\u001b[0;34m\u001b[0m\u001b[0m\n\u001b[0;32m---> 58\u001b[0;31m     \u001b[0mspeak\u001b[0m\u001b[0;34m(\u001b[0m\u001b[0;34m\"What can I help you?\"\u001b[0m\u001b[0;34m)\u001b[0m\u001b[0;34m\u001b[0m\u001b[0;34m\u001b[0m\u001b[0m\n\u001b[0m\u001b[1;32m     59\u001b[0m     \u001b[0mtext\u001b[0m \u001b[0;34m=\u001b[0m \u001b[0mrecog\u001b[0m\u001b[0;34m(\u001b[0m\u001b[0;34m)\u001b[0m\u001b[0;34m\u001b[0m\u001b[0;34m\u001b[0m\u001b[0m\n\u001b[1;32m     60\u001b[0m     \u001b[0mprint\u001b[0m\u001b[0;34m(\u001b[0m\u001b[0mtext\u001b[0m\u001b[0;34m)\u001b[0m\u001b[0;34m\u001b[0m\u001b[0;34m\u001b[0m\u001b[0m\n",
      "\u001b[0;32m<ipython-input-66-6e23b6bff546>\u001b[0m in \u001b[0;36mspeak\u001b[0;34m(text)\u001b[0m\n\u001b[1;32m     52\u001b[0m     \u001b[0;31m# tts.setProperty('voice', voices[1].id)\u001b[0m\u001b[0;34m\u001b[0m\u001b[0;34m\u001b[0m\u001b[0;34m\u001b[0m\u001b[0m\n\u001b[1;32m     53\u001b[0m     \u001b[0mtts\u001b[0m\u001b[0;34m.\u001b[0m\u001b[0msay\u001b[0m\u001b[0;34m(\u001b[0m\u001b[0mtext\u001b[0m\u001b[0;34m)\u001b[0m\u001b[0;34m\u001b[0m\u001b[0;34m\u001b[0m\u001b[0m\n\u001b[0;32m---> 54\u001b[0;31m     \u001b[0mtts\u001b[0m\u001b[0;34m.\u001b[0m\u001b[0mrunAndWait\u001b[0m\u001b[0;34m(\u001b[0m\u001b[0;34m)\u001b[0m\u001b[0;34m\u001b[0m\u001b[0;34m\u001b[0m\u001b[0m\n\u001b[0m\u001b[1;32m     55\u001b[0m \u001b[0;31m# speak(\"Hello how are you\")\u001b[0m\u001b[0;34m\u001b[0m\u001b[0;34m\u001b[0m\u001b[0;34m\u001b[0m\u001b[0m\n\u001b[1;32m     56\u001b[0m \u001b[0;31m# main part\u001b[0m\u001b[0;34m\u001b[0m\u001b[0;34m\u001b[0m\u001b[0;34m\u001b[0m\u001b[0m\n",
      "\u001b[0;32m~/anaconda3/lib/python3.7/site-packages/pyttsx3/engine.py\u001b[0m in \u001b[0;36mrunAndWait\u001b[0;34m(self)\u001b[0m\n\u001b[1;32m    175\u001b[0m         \"\"\"\n\u001b[1;32m    176\u001b[0m         \u001b[0;32mif\u001b[0m \u001b[0mself\u001b[0m\u001b[0;34m.\u001b[0m\u001b[0m_inLoop\u001b[0m\u001b[0;34m:\u001b[0m\u001b[0;34m\u001b[0m\u001b[0;34m\u001b[0m\u001b[0m\n\u001b[0;32m--> 177\u001b[0;31m             \u001b[0;32mraise\u001b[0m \u001b[0mRuntimeError\u001b[0m\u001b[0;34m(\u001b[0m\u001b[0;34m'run loop already started'\u001b[0m\u001b[0;34m)\u001b[0m\u001b[0;34m\u001b[0m\u001b[0;34m\u001b[0m\u001b[0m\n\u001b[0m\u001b[1;32m    178\u001b[0m         \u001b[0mself\u001b[0m\u001b[0;34m.\u001b[0m\u001b[0m_inLoop\u001b[0m \u001b[0;34m=\u001b[0m \u001b[0;32mTrue\u001b[0m\u001b[0;34m\u001b[0m\u001b[0;34m\u001b[0m\u001b[0m\n\u001b[1;32m    179\u001b[0m         \u001b[0mself\u001b[0m\u001b[0;34m.\u001b[0m\u001b[0m_driverLoop\u001b[0m \u001b[0;34m=\u001b[0m \u001b[0;32mTrue\u001b[0m\u001b[0;34m\u001b[0m\u001b[0;34m\u001b[0m\u001b[0m\n",
      "\u001b[0;31mRuntimeError\u001b[0m: run loop already started"
     ]
    }
   ],
   "source": [
    "import speech_recognition as sr\n",
    "from time import ctime\n",
    "import webbrowser\n",
    "import time\n",
    "import pyttsx3\n",
    "r = sr.Recognizer()\n",
    "tts = pyttsx3.init()\n",
    "# recognize user voice\n",
    "def recog():\n",
    "    with sr.Microphone() as mic:        \n",
    "        # listen to microphone\n",
    "        audio = r.listen(mic)\n",
    "        text = \"\"\n",
    "        try:\n",
    "            # convert audio to text\n",
    "            text = r.recognize_google(audio,None,'th')\n",
    "            # print(text)\n",
    "        except sr.UnknownValueError:\n",
    "            print(\"Cannot understand your messsage\")\n",
    "        except sr.RequestError:\n",
    "            print(\"Service is not ready\")\n",
    "        return text\n",
    "# respond to user voice\n",
    "def respond(text):\n",
    "    if \"สวัสดีครับ\" in text:\n",
    "        speak(\"My name is Jarvis\")\n",
    "    elif \"what time is it\" in text:\n",
    "        speak(ctime())\n",
    "    elif \"search\" in text:\n",
    "        print(\"What are you looking for?\")\n",
    "        search = recog()\n",
    "        # google search\n",
    "        # https://www.google.com/search?q=covid\n",
    "        url = \"https://www.google.com/search?q=\" + search\n",
    "        # print(url)\n",
    "        webbrowser.get().open(url)\n",
    "    elif \"location\" in text:\n",
    "        print(\"Where is your target?\")\n",
    "        search = recog()\n",
    "        # google map search\n",
    "        # https://www.google.com/maps/place/aaa&\n",
    "        url = \"https://www.google.com/maps/place/\" + search + \"/&amp\"\n",
    "        # print(url)\n",
    "        webbrowser.get().open(url)\n",
    "    elif \"stop\" in text:\n",
    "        speak(\"Good bye\")\n",
    "        exit()\n",
    "    else:\n",
    "        speak(\"Sorry, I cannot understand\")\n",
    "def speak(text):\n",
    "    # voices = tts.getProperty('voices') \n",
    "    # tts.setProperty('voice', voices[1].id)   \n",
    "    tts.say(text)\n",
    "    tts.runAndWait()\n",
    "# speak(\"Hello how are you\")\n",
    "# main part\n",
    "while True:\n",
    "    speak(\"What can I help you?\")\n",
    "    text = recog()\n",
    "    print(text)\n",
    "    respond(text)\n",
    "    time.sleep(1)"
   ]
  },
  {
   "cell_type": "code",
   "execution_count": null,
   "metadata": {},
   "outputs": [],
   "source": []
  }
 ],
 "metadata": {
  "kernelspec": {
   "display_name": "Python 3",
   "language": "python",
   "name": "python3"
  },
  "language_info": {
   "codemirror_mode": {
    "name": "ipython",
    "version": 3
   },
   "file_extension": ".py",
   "mimetype": "text/x-python",
   "name": "python",
   "nbconvert_exporter": "python",
   "pygments_lexer": "ipython3",
   "version": "3.7.3"
  }
 },
 "nbformat": 4,
 "nbformat_minor": 2
}
